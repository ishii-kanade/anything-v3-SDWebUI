{
  "nbformat": 4,
  "nbformat_minor": 0,
  "metadata": {
    "colab": {
      "provenance": [],
      "authorship_tag": "ABX9TyOoBHDhf89ypw/ADFh9DsTS",
      "include_colab_link": true
    },
    "kernelspec": {
      "name": "python3",
      "display_name": "Python 3"
    },
    "language_info": {
      "name": "python"
    },
    "accelerator": "GPU",
    "gpuClass": "standard"
  },
  "cells": [
    {
      "cell_type": "markdown",
      "metadata": {
        "id": "view-in-github",
        "colab_type": "text"
      },
      "source": [
        "<a href=\"https://colab.research.google.com/github/kanade-ishii/anything-v3-SDWebUI/blob/main/anything_v3_0_pruned_SDwebUI.ipynb\" target=\"_parent\"><img src=\"https://colab.research.google.com/assets/colab-badge.svg\" alt=\"Open In Colab\"/></a>"
      ]
    },
    {
      "cell_type": "markdown",
      "source": [
        "前提\n",
        "\n",
        "「編集」の「ノートブックの設定」からGPUに変更"
      ],
      "metadata": {
        "id": "8JvU2UxUUts9"
      }
    },
    {
      "cell_type": "markdown",
      "source": [
        "## 環境構築"
      ],
      "metadata": {
        "id": "xg2lJoGqU1rc"
      }
    },
    {
      "cell_type": "code",
      "source": [
        "!pip install -q https://github.com/camenduru/stable-diffusion-webui-colab/releases/download/0.0.15/xformers-0.0.15+e163309.d20230103-cp38-cp38-linux_x86_64.whl\n",
        "!pip install -q --pre triton\n",
        "!git clone -b v1.6 https://github.com/camenduru/stable-diffusion-webui\n",
        "\n",
        "# Anythingv3.0 のモデルを取得\n",
        "!wget https://huggingface.co/Linaqruf/anything-v3.0/resolve/main/anything-v3-fp16-pruned.safetensors -O /content/stable-diffusion-webui/models/Stable-diffusion/model.safetensors\n",
        "# full版を使う場合↓\n",
        "#!wget https://huggingface.co/Linaqruf/anything-v3.0/resolve/main/Anything-V3.0.vae.pt -O /content/stable-diffusion-webui/models/Stable-diffusion/model.vae"
      ],
      "metadata": {
        "id": "1N-eSPjjcSO7"
      },
      "execution_count": null,
      "outputs": []
    },
    {
      "cell_type": "markdown",
      "source": [
        "## 実行\n",
        "\n",
        "しばらくしたら、https://***.gradio.app/ が出てくるのでクリック\n",
        "\n",
        "※動かしてる間はずっと実行中になる"
      ],
      "metadata": {
        "id": "EGE2YZ50dVzj"
      }
    },
    {
      "cell_type": "code",
      "source": [
        "%cd /content/stable-diffusion-webui\n",
        "!COMMANDLINE_ARGS=\"--share --gradio-debug --xformers\" REQS_FILE=\"requirements.txt\" python launch.py"
      ],
      "metadata": {
        "id": "kjH12Nm5dDh1"
      },
      "execution_count": null,
      "outputs": []
    }
  ]
}