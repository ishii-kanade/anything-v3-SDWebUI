{
  "nbformat": 4,
  "nbformat_minor": 0,
  "metadata": {
    "colab": {
      "provenance": [],
      "authorship_tag": "ABX9TyNELCPt5g9C4vL1q8Jzsj9Q",
      "include_colab_link": true
    },
    "kernelspec": {
      "name": "python3",
      "display_name": "Python 3"
    },
    "language_info": {
      "name": "python"
    },
    "accelerator": "GPU",
    "gpuClass": "standard"
  },
  "cells": [
    {
      "cell_type": "markdown",
      "metadata": {
        "id": "view-in-github",
        "colab_type": "text"
      },
      "source": [
        "<a href=\"https://colab.research.google.com/github/kanade-ishii/anything-v3-SDWebUI/blob/main/anything_v3_0_pruned_SDwebUI.ipynb\" target=\"_parent\"><img src=\"https://colab.research.google.com/assets/colab-badge.svg\" alt=\"Open In Colab\"/></a>"
      ]
    },
    {
      "cell_type": "markdown",
      "source": [
        "前提\n",
        "\n",
        "「編集」の「ノートブックの設定」からGPUに変更"
      ],
      "metadata": {
        "id": "8JvU2UxUUts9"
      }
    },
    {
      "cell_type": "markdown",
      "source": [
        "## 環境構築"
      ],
      "metadata": {
        "id": "xg2lJoGqU1rc"
      }
    },
    {
      "cell_type": "code",
      "source": [
        "!pip install -q https://github.com/camenduru/stable-diffusion-webui-colab/releases/download/0.0.15/xformers-0.0.15+e163309.d20230103-cp38-cp38-linux_x86_64.whl\n",
        "!pip install -q --pre triton\n",
        "!git clone -b v1.6 https://github.com/camenduru/stable-diffusion-webui\n",
        "\n",
        "# Anythingv3.0 のモデルを取得\n",
        "!wget https://huggingface.co/Linaqruf/anything-v3.0/resolve/main/anything-v3-fp16-pruned.safetensors -O /content/stable-diffusion-webui/models/Stable-diffusion/model.safetensors\n",
        "# full版を使う場合↓\n",
        "#!wget https://huggingface.co/Linaqruf/anything-v3.0/resolve/main/Anything-V3.0.vae.pt -O /content/stable-diffusion-webui/models/Stable-diffusion/model.vae"
      ],
      "metadata": {
        "colab": {
          "base_uri": "https://localhost:8080/"
        },
        "id": "1N-eSPjjcSO7",
        "outputId": "1618b438-fd06-45ff-a365-6b3a131b6108"
      },
      "execution_count": null,
      "outputs": [
        {
          "output_type": "stream",
          "name": "stdout",
          "text": [
            "\u001b[2K     \u001b[90m━━━━━━━━━━━━━━━━━━━━━━━━━━━━━━━━━━━━━━━━\u001b[0m \u001b[32m91.0/91.0 MB\u001b[0m \u001b[31m11.2 MB/s\u001b[0m eta \u001b[36m0:00:00\u001b[0m\n",
            "\u001b[2K     \u001b[90m━━━━━━━━━━━━━━━━━━━━━━━━━━━━━━━━━━━━━━━━\u001b[0m \u001b[32m41.6/41.6 KB\u001b[0m \u001b[31m4.5 MB/s\u001b[0m eta \u001b[36m0:00:00\u001b[0m\n",
            "\u001b[2K     \u001b[90m━━━━━━━━━━━━━━━━━━━━━━━━━━━━━━━━━━━━━━━━\u001b[0m \u001b[32m18.7/18.7 MB\u001b[0m \u001b[31m80.8 MB/s\u001b[0m eta \u001b[36m0:00:00\u001b[0m\n",
            "\u001b[?25hCloning into 'stable-diffusion-webui'...\n",
            "remote: Enumerating objects: 15987, done.\u001b[K\n",
            "remote: Total 15987 (delta 0), reused 0 (delta 0), pack-reused 15987\u001b[K\n",
            "Receiving objects: 100% (15987/15987), 27.16 MiB | 8.94 MiB/s, done.\n",
            "Resolving deltas: 100% (11224/11224), done.\n",
            "--2023-02-07 01:20:05--  https://huggingface.co/Linaqruf/anything-v3.0/resolve/main/anything-v3-fp16-pruned.safetensors\n",
            "Resolving huggingface.co (huggingface.co)... 3.231.67.228, 54.235.118.239, 2600:1f18:147f:e800:671:b733:ecf3:a585, ...\n",
            "Connecting to huggingface.co (huggingface.co)|3.231.67.228|:443... connected.\n",
            "HTTP request sent, awaiting response... 302 Found\n",
            "Location: https://cdn-lfs.huggingface.co/repos/68/1a/681af8dc2d78e74e5f6a9f0ec0869291220ff024da5d4ba3a76b08e9fd3f4d6f/d1facd9a2b7c5e46d4d54de5a7441c370804c0c5727ca04a0708319d04047c58?response-content-disposition=attachment%3B+filename*%3DUTF-8%27%27anything-v3-fp16-pruned.safetensors%3B+filename%3D%22anything-v3-fp16-pruned.safetensors%22%3B&Expires=1675990442&Policy=eyJTdGF0ZW1lbnQiOlt7IlJlc291cmNlIjoiaHR0cHM6Ly9jZG4tbGZzLmh1Z2dpbmdmYWNlLmNvL3JlcG9zLzY4LzFhLzY4MWFmOGRjMmQ3OGU3NGU1ZjZhOWYwZWMwODY5MjkxMjIwZmYwMjRkYTVkNGJhM2E3NmIwOGU5ZmQzZjRkNmYvZDFmYWNkOWEyYjdjNWU0NmQ0ZDU0ZGU1YTc0NDFjMzcwODA0YzBjNTcyN2NhMDRhMDcwODMxOWQwNDA0N2M1OD9yZXNwb25zZS1jb250ZW50LWRpc3Bvc2l0aW9uPSoiLCJDb25kaXRpb24iOnsiRGF0ZUxlc3NUaGFuIjp7IkFXUzpFcG9jaFRpbWUiOjE2NzU5OTA0NDJ9fX1dfQ__&Signature=iYXOrlbvkt4txf96EOMiBOl568GTcmht9XPaFJABfXB6fEtgM0PEPqdyRSfDrB4nCW8s9VELgu3EQXlFLOYFT%7EPBSSe%7E-Z56oJdCvFfauT8olGuHdPOZ0Rd762TRkPpVTBjmOJNZLjgFIiGwMXVc97A2EEE7PhuaqmDrKbdL2WqIu9ECcHJKTqRLhUJ79sm9ubgnmQfwvuAc4deKCajsT5j3CWfmi3S2FQ9cGaco8mv6wgMa-D11HKYRDdvY%7ECw-woYLjvFtVvGXpi5giFNfZC85Ym2wVScLrWKXuWGzOMIxWJKplA2pfXkHYauyzE5R1l%7EofBwC0e7wFLwNf7dM8A__&Key-Pair-Id=KVTP0A1DKRTAX [following]\n",
            "--2023-02-07 01:20:06--  https://cdn-lfs.huggingface.co/repos/68/1a/681af8dc2d78e74e5f6a9f0ec0869291220ff024da5d4ba3a76b08e9fd3f4d6f/d1facd9a2b7c5e46d4d54de5a7441c370804c0c5727ca04a0708319d04047c58?response-content-disposition=attachment%3B+filename*%3DUTF-8%27%27anything-v3-fp16-pruned.safetensors%3B+filename%3D%22anything-v3-fp16-pruned.safetensors%22%3B&Expires=1675990442&Policy=eyJTdGF0ZW1lbnQiOlt7IlJlc291cmNlIjoiaHR0cHM6Ly9jZG4tbGZzLmh1Z2dpbmdmYWNlLmNvL3JlcG9zLzY4LzFhLzY4MWFmOGRjMmQ3OGU3NGU1ZjZhOWYwZWMwODY5MjkxMjIwZmYwMjRkYTVkNGJhM2E3NmIwOGU5ZmQzZjRkNmYvZDFmYWNkOWEyYjdjNWU0NmQ0ZDU0ZGU1YTc0NDFjMzcwODA0YzBjNTcyN2NhMDRhMDcwODMxOWQwNDA0N2M1OD9yZXNwb25zZS1jb250ZW50LWRpc3Bvc2l0aW9uPSoiLCJDb25kaXRpb24iOnsiRGF0ZUxlc3NUaGFuIjp7IkFXUzpFcG9jaFRpbWUiOjE2NzU5OTA0NDJ9fX1dfQ__&Signature=iYXOrlbvkt4txf96EOMiBOl568GTcmht9XPaFJABfXB6fEtgM0PEPqdyRSfDrB4nCW8s9VELgu3EQXlFLOYFT%7EPBSSe%7E-Z56oJdCvFfauT8olGuHdPOZ0Rd762TRkPpVTBjmOJNZLjgFIiGwMXVc97A2EEE7PhuaqmDrKbdL2WqIu9ECcHJKTqRLhUJ79sm9ubgnmQfwvuAc4deKCajsT5j3CWfmi3S2FQ9cGaco8mv6wgMa-D11HKYRDdvY%7ECw-woYLjvFtVvGXpi5giFNfZC85Ym2wVScLrWKXuWGzOMIxWJKplA2pfXkHYauyzE5R1l%7EofBwC0e7wFLwNf7dM8A__&Key-Pair-Id=KVTP0A1DKRTAX\n",
            "Resolving cdn-lfs.huggingface.co (cdn-lfs.huggingface.co)... 54.192.150.84, 54.192.150.21, 54.192.150.19, ...\n",
            "Connecting to cdn-lfs.huggingface.co (cdn-lfs.huggingface.co)|54.192.150.84|:443... connected.\n",
            "HTTP request sent, awaiting response... 200 OK\n",
            "Length: 2132625431 (2.0G) [binary/octet-stream]\n",
            "Saving to: ‘/content/stable-diffusion-webui/models/Stable-diffusion/model.safetensors’\n",
            "\n",
            "/content/stable-dif 100%[===================>]   1.99G   241MB/s    in 8.2s    \n",
            "\n",
            "2023-02-07 01:20:14 (247 MB/s) - ‘/content/stable-diffusion-webui/models/Stable-diffusion/model.safetensors’ saved [2132625431/2132625431]\n",
            "\n"
          ]
        }
      ]
    },
    {
      "cell_type": "markdown",
      "source": [
        "## 実行\n",
        "\n",
        "しばらくしたら、https://（数字）.gradio.app/ が出てくるのでクリック\n",
        "\n",
        "※動かしてる間はずっと実行中になる"
      ],
      "metadata": {
        "id": "EGE2YZ50dVzj"
      }
    },
    {
      "cell_type": "code",
      "source": [
        "%cd /content/stable-diffusion-webui\n",
        "!COMMANDLINE_ARGS=\"--share --gradio-debug --xformers\" REQS_FILE=\"requirements.txt\" python launch.py"
      ],
      "metadata": {
        "id": "kjH12Nm5dDh1"
      },
      "execution_count": null,
      "outputs": []
    }
  ]
}